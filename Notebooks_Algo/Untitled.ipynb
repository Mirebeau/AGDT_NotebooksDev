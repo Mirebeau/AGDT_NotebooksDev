{
 "cells": [
  {
   "cell_type": "code",
   "execution_count": null,
   "id": "cbf48572-155b-4a49-b833-53602cab458d",
   "metadata": {},
   "outputs": [],
   "source": []
  }
 ],
 "metadata": {
  "kernelspec": {
   "display_name": "",
   "name": ""
  },
  "language_info": {
   "name": ""
  }
 },
 "nbformat": 4,
 "nbformat_minor": 5
}
