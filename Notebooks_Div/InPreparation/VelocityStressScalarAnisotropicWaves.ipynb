{
 "cells": [
  {
   "cell_type": "markdown",
   "id": "90b8257c-1329-48e1-ab25-33860e6978c2",
   "metadata": {},
   "source": [
    "# Adaptive PDE discretizations on Cartesian grids, Taichi implementations\n",
    "\n",
    "## Volume : Divergence form PDEs\n",
    "\n",
    "## Part : Scalar wave equation\n",
    "\n",
    "## Chapter : Velocity-Stress formulation\n",
    "\n",
    "$\n",
    "\\DeclareMathOperator\\diver{div}\n",
    "\\newcommand\\<{\\langle} \\newcommand\\>{\\rangle}\n",
    "\\newcommand\\bZ{\\mathbb{Z}}\n",
    "$"
   ]
  },
  {
   "cell_type": "markdown",
   "id": "6c3aa86e-50f3-4185-993d-d695c5e21777",
   "metadata": {},
   "source": [
    "**Hamiltonian description of the wave equation.** The *scalar anisotropic wave equation* is written in position-momentum coordinates as \n",
    "\\begin{align*}\n",
    "    \\partial_t q &= \\mu p, &\n",
    "    \\partial_t p &= \\diver(D \\nabla q),\n",
    "\\end{align*}\n",
    "where $\\mu$ is the inverse of the medium density, and $D$ is a field of positive definite matrices.\n",
    "This approach lends itself to an efficient discretization based on symplectic schemes for the system with Hamiltonian \n",
    "$$\n",
    "H(q,p) = \\frac 1 2 \\int_\\Omega \\mu p^2 + \\<\\nabla q,D \\nabla q\\>,\n",
    "$$\n",
    "see the notebooks (**TODO : links**).\n",
    "\n",
    "**Velocity-Stress formulation.** However, one often also considers the velocity-stress pair of variables, defined as \n",
    "\\begin{align*}\n",
    "    v &= \\mu p, &\n",
    "    \\sigma &= D \\nabla q,\n",
    "\\end{align*}\n",
    "which is often more convenient for the description of absorbing layers and boundary conditions. In this notebook, we shall discretize the PDE\n",
    "\\begin{align*}\n",
    "    \\partial_t \\sigma &= D \\nabla v - \\alpha \\sigma,&\n",
    "    \\partial_t v &= \\mu \\diver \\sigma - \\alpha v,\n",
    "\\end{align*}\n",
    "in a sponge medium with absorption coefficient $\\alpha\\geq 0$. We use the absorbing boundary condition\n",
    "$$\n",
    "    \\<\\sigma,n\\> = -\\zeta v,\n",
    "$$\n",
    "with parameter $\\zeta \\geq 0$. The velocity-stress and the position-momentum discretizations are equivalent when $\\alpha = \\zeta = 0$.\n",
    "\n",
    "**Decomposition of the anisotropy.**\n",
    "We assume that \n",
    "$$\n",
    "    D(x) = \\sum_{e \\in E} \\lambda^e(x) e e^\\top,\n",
    "$$\n",
    "where $E \\subset \\bZ^d$ is a *fixed* set of offsets. This choice can be questioned: \n",
    "- A fixed $E$ yields a simpler implementation, possibly more efficient when anisotropy is mild.\n",
    "- A variable $E=E(x)$ yields a more complex implementation, especially in the velocity-stress formulation, but is more efficient when anisotropy is strong.\n",
    "\n",
    "The discrete variables are $v(x)$ and $\\sigma(x,e)$, $x \\in \\Omega_h$, $e\\in E$. "
   ]
  },
  {
   "cell_type": "markdown",
   "id": "5ae3e857-b95c-44da-aa38-073ec930456f",
   "metadata": {},
   "source": [
    "## 0. Importing the required libraries"
   ]
  },
  {
   "cell_type": "code",
   "execution_count": 1,
   "id": "ad93ab30-de85-4d73-a7a8-165a60fd87c7",
   "metadata": {},
   "outputs": [],
   "source": [
    "import numpy as np\n",
    "from matplotlib import pyplot as plt"
   ]
  },
  {
   "cell_type": "code",
   "execution_count": 2,
   "id": "fe2724d7-5a42-411a-bd45-bdb274cf948b",
   "metadata": {},
   "outputs": [
    {
     "name": "stdout",
     "output_type": "stream",
     "text": [
      "[Taichi] version 1.7.2, llvm 15.0.7, commit 0131dce9, osx, python 3.11.11\n",
      "[Taichi] Starting on arch=arm64\n"
     ]
    },
    {
     "name": "stderr",
     "output_type": "stream",
     "text": [
      "[I 03/27/25 10:39:01.737 5545810] [shell.py:_shell_pop_print@23] Graphical python shell detected, using wrapped sys.stdout\n"
     ]
    }
   ],
   "source": [
    "import taichi as ti\n",
    "ti.init(arch=ti.cpu,default_fp=ti.f64)"
   ]
  },
  {
   "cell_type": "markdown",
   "id": "11640cfe-49db-4b2e-b72e-cbb493608331",
   "metadata": {},
   "source": [
    "## 1. Preprocessing\n",
    "\n",
    "- Decomposition of the tensor field $D$\n",
    "- Conversion to use a constant $E$\n",
    "- Computation of the shifts associated with the offsets of $E$\n",
    "- Bit mask to know which offsets fall outside.\n",
    "- Computation of the weights associated with the edges."
   ]
  },
  {
   "cell_type": "code",
   "execution_count": 3,
   "id": "02068bca-f2e5-4fc3-8e1b-59f2cb41a5b3",
   "metadata": {},
   "outputs": [
    {
     "name": "stdout",
     "output_type": "stream",
     "text": [
      "Help on function field in module taichi.lang.impl:\n",
      "\n",
      "field(dtype, *args, **kwargs)\n",
      "    Defines a Taichi field.\n",
      "    \n",
      "    A Taichi field can be viewed as an abstract N-dimensional array, hiding away\n",
      "    the complexity of how its underlying :class:`~taichi.lang.snode.SNode` are\n",
      "    actually defined. The data in a Taichi field can be directly accessed by\n",
      "    a Taichi :func:`~taichi.lang.kernel_impl.kernel`.\n",
      "    \n",
      "    See also https://docs.taichi-lang.org/docs/field\n",
      "    \n",
      "    Args:\n",
      "        dtype (DataType): data type of the field. Note it can be vector or matrix types as well.\n",
      "        shape (Union[int, tuple[int]], optional): shape of the field.\n",
      "        order (str, optional): order of the shape laid out in memory.\n",
      "        name (str, optional): name of the field.\n",
      "        offset (Union[int, tuple[int]], optional): offset of the field domain.\n",
      "        needs_grad (bool, optional): whether this field participates in autodiff (reverse mode)\n",
      "            and thus needs an adjoint field to store the gradients.\n",
      "        needs_dual (bool, optional): whether this field participates in autodiff (forward mode)\n",
      "            and thus needs an dual field to store the gradients.\n",
      "    \n",
      "    Example::\n",
      "    \n",
      "        The code below shows how a Taichi field can be declared and defined::\n",
      "    \n",
      "            >>> x1 = ti.field(ti.f32, shape=(16, 8))\n",
      "            >>> # Equivalently\n",
      "            >>> x2 = ti.field(ti.f32)\n",
      "            >>> ti.root.dense(ti.ij, shape=(16, 8)).place(x2)\n",
      "            >>>\n",
      "            >>> x3 = ti.field(ti.f32, shape=(16, 8), order='ji')\n",
      "            >>> # Equivalently\n",
      "            >>> x4 = ti.field(ti.f32)\n",
      "            >>> ti.root.dense(ti.j, shape=8).dense(ti.i, shape=16).place(x4)\n",
      "            >>>\n",
      "            >>> x5 = ti.field(ti.math.vec3, shape=(16, 8))\n",
      "\n"
     ]
    }
   ],
   "source": [
    "help(ti.field)"
   ]
  },
  {
   "cell_type": "code",
   "execution_count": 22,
   "id": "f706064f-28d0-4d6d-a3b2-ce548b082a64",
   "metadata": {},
   "outputs": [
    {
     "name": "stdout",
     "output_type": "stream",
     "text": [
      "3\n",
      "2\n",
      "7\n"
     ]
    }
   ],
   "source": [
    "m = ti.field(dtype=ti.math.vec4,shape=(3,))\n",
    "shape = (2,3,4) #np.array((2,3,4))\n",
    "np.cumprod((1,*shape[::-1][:-1]))[::-1]\n",
    "\n",
    "@ti.kernel\n",
    "def test_bits():\n",
    "    for _ in range(1):\n",
    "        a:ti.i32 = 2\n",
    "        b:ti.i32 = 3\n",
    "        print(a | b)\n",
    "        print(4 >> 1)\n",
    "        a|=5\n",
    "        print(a)\n",
    "test_bits()\n",
    "\n",
    "#np.cumprod( shape )"
   ]
  },
  {
   "cell_type": "code",
   "execution_count": 24,
   "id": "2eb8937b-4394-4ae4-8912-2267bda3b729",
   "metadata": {},
   "outputs": [
    {
     "data": {
      "text/plain": [
       "np.float64(1.0)"
      ]
     },
     "execution_count": 24,
     "metadata": {},
     "output_type": "execute_result"
    }
   ],
   "source": [
    "m = ti.math.mat2\n",
    "m.dtype==ti.f64\n",
    "np.float64(1)"
   ]
  },
  {
   "cell_type": "code",
   "execution_count": 39,
   "id": "8090656f-9011-493a-9868-9bb0f97f9fbd",
   "metadata": {},
   "outputs": [
    {
     "name": "stdout",
     "output_type": "stream",
     "text": [
      "Help on method copy_from in module taichi.lang.field:\n",
      "\n",
      "copy_from(other) method of taichi.lang.field.ScalarField instance\n",
      "    Copies all elements from another field.\n",
      "    \n",
      "    The shape of the other field needs to be the same as `self`.\n",
      "    \n",
      "    Args:\n",
      "        other (Field): The source field.\n",
      "\n"
     ]
    }
   ],
   "source": [
    "arr = ti.field(ti.f32,5)\n",
    "arr."
   ]
  },
  {
   "cell_type": "code",
   "execution_count": 35,
   "id": "1b14799e-d40a-41c9-a0bb-ace2cbae9000",
   "metadata": {},
   "outputs": [
    {
     "name": "stdout",
     "output_type": "stream",
     "text": [
      "Help on class Template in module taichi.types.annotations:\n",
      "\n",
      "class Template(builtins.object)\n",
      " |  Template(tensor=None, dim=None)\n",
      " |  \n",
      " |  Type annotation for template kernel parameter.\n",
      " |  Useful for passing parameters to kernels by reference.\n",
      " |  \n",
      " |  See also https://docs.taichi-lang.org/docs/meta.\n",
      " |  \n",
      " |  Args:\n",
      " |      tensor (Any): unused\n",
      " |      dim (Any): unused\n",
      " |  \n",
      " |  Example::\n",
      " |  \n",
      " |      >>> a = 1\n",
      " |      >>>\n",
      " |      >>> @ti.kernel\n",
      " |      >>> def test():\n",
      " |      >>>     print(a)\n",
      " |      >>>\n",
      " |      >>> @ti.kernel\n",
      " |      >>> def test_template(a: ti.template()):\n",
      " |      >>>     print(a)\n",
      " |      >>>\n",
      " |      >>> test(a)  # will print 1\n",
      " |      >>> test_template(a)  # will also print 1\n",
      " |      >>> a = 2\n",
      " |      >>> test(a)  # will still print 1\n",
      " |      >>> test_template(a)  # will print 2\n",
      " |  \n",
      " |  Methods defined here:\n",
      " |  \n",
      " |  __init__(self, tensor=None, dim=None)\n",
      " |      Initialize self.  See help(type(self)) for accurate signature.\n",
      " |  \n",
      " |  ----------------------------------------------------------------------\n",
      " |  Data descriptors defined here:\n",
      " |  \n",
      " |  __dict__\n",
      " |      dictionary for instance variables\n",
      " |  \n",
      " |  __weakref__\n",
      " |      list of weak references to the object\n",
      "\n"
     ]
    }
   ],
   "source": [
    "help(ti.template)"
   ]
  },
  {
   "cell_type": "code",
   "execution_count": 81,
   "id": "1dcae026-9a89-4d2b-9f51-2ecc24998680",
   "metadata": {},
   "outputs": [
    {
     "data": {
      "text/plain": [
       "taichi.lang.matrix.Matrix"
      ]
     },
     "execution_count": 81,
     "metadata": {},
     "output_type": "execute_result"
    }
   ],
   "source": [
    "type(ti.math.mat2((1.2,0.2),(0.2,1)))"
   ]
  },
  {
   "cell_type": "code",
   "execution_count": 98,
   "id": "a24d31de-921d-4468-9b94-9dce98eeba54",
   "metadata": {},
   "outputs": [],
   "source": [
    "from types import SimpleNamespace\n",
    "import copy\n",
    "t = SimpleNamespace(a=2,b=3)\n",
    "t2 = copy.copy(t)\n",
    "t2.__dict__.update({'c':3})"
   ]
  },
  {
   "cell_type": "code",
   "execution_count": 100,
   "id": "93987751-6a72-4304-ad6c-81b8162cae40",
   "metadata": {},
   "outputs": [
    {
     "data": {
      "text/plain": [
       "np.float64(1.4142135623730951)"
      ]
     },
     "execution_count": 100,
     "metadata": {},
     "output_type": "execute_result"
    }
   ],
   "source": [
    "v = ti.math.vec2(0,1)\n",
    "#v.outer_product(v)\n",
    "#v.shape\n",
    "ti.math.sqrt(2)"
   ]
  },
  {
   "cell_type": "code",
   "execution_count": 82,
   "id": "4caf45c9-d535-41ce-af26-ceb792787d10",
   "metadata": {},
   "outputs": [],
   "source": [
    "from types import SimpleNamespace"
   ]
  },
  {
   "cell_type": "code",
   "execution_count": 25,
   "id": "0c718f24-83cd-433c-8816-8a3388dc7c13",
   "metadata": {},
   "outputs": [
    {
     "name": "stdout",
     "output_type": "stream",
     "text": [
      "Help on VectorType in module taichi.lang.matrix object:\n",
      "\n",
      "class VectorType(MatrixType)\n",
      " |  VectorType(n, dtype)\n",
      " |  \n",
      " |  Method resolution order:\n",
      " |      VectorType\n",
      " |      MatrixType\n",
      " |      taichi.types.compound_types.CompoundType\n",
      " |      builtins.object\n",
      " |  \n",
      " |  Methods defined here:\n",
      " |  \n",
      " |  __call__(self, *args)\n",
      " |      Return a vector matching the shape and dtype.\n",
      " |      \n",
      " |      This function will try to convert the input to a `n`-component vector.\n",
      " |      \n",
      " |      Example::\n",
      " |      \n",
      " |          >>> vec3 = VectorType(3, float)\n",
      " |      \n",
      " |          Create from n scalars:\n",
      " |      \n",
      " |              >>> v = vec3(1, 2, 3)\n",
      " |      \n",
      " |          Create from a list/tuple of n scalars:\n",
      " |      \n",
      " |              >>> v = vec3([1, 2, 3])\n",
      " |      \n",
      " |          Create from a single scalar\n",
      " |      \n",
      " |              >>> v = vec3(1)\n",
      " |  \n",
      " |  __init__(self, n, dtype)\n",
      " |      Initialize self.  See help(type(self)) for accurate signature.\n",
      " |  \n",
      " |  field(self, **kwargs)\n",
      " |  \n",
      " |  ndarray(self, **kwargs)\n",
      " |  \n",
      " |  to_string(self)\n",
      " |  \n",
      " |  ----------------------------------------------------------------------\n",
      " |  Methods inherited from MatrixType:\n",
      " |  \n",
      " |  check_matched(self, other)\n",
      " |  \n",
      " |  from_kernel_struct_ret(self, launch_ctx, ret_index=())\n",
      " |  \n",
      " |  from_taichi_object(self, func_ret, ret_index=())\n",
      " |  \n",
      " |  get_shape(self)\n",
      " |  \n",
      " |  set_argpack_struct_args(self, mat, argpack, ret_index=())\n",
      " |  \n",
      " |  set_kernel_struct_args(self, mat, launch_ctx, ret_index=())\n",
      " |  \n",
      " |  ----------------------------------------------------------------------\n",
      " |  Data descriptors inherited from taichi.types.compound_types.CompoundType:\n",
      " |  \n",
      " |  __dict__\n",
      " |      dictionary for instance variables\n",
      " |  \n",
      " |  __weakref__\n",
      " |      list of weak references to the object\n",
      "\n"
     ]
    }
   ],
   "source": [
    "help(ti.math.vec2)"
   ]
  },
  {
   "cell_type": "code",
   "execution_count": 12,
   "id": "f5da6fd4-2512-4bea-b4f1-56c7eea51ef3",
   "metadata": {},
   "outputs": [
    {
     "name": "stdout",
     "output_type": "stream",
     "text": [
      "Help on class MatrixType in module taichi.lang.matrix:\n",
      "\n",
      "class MatrixType(taichi.types.compound_types.CompoundType)\n",
      " |  MatrixType(n, m, ndim, dtype)\n",
      " |  \n",
      " |  Method resolution order:\n",
      " |      MatrixType\n",
      " |      taichi.types.compound_types.CompoundType\n",
      " |      builtins.object\n",
      " |  \n",
      " |  Methods defined here:\n",
      " |  \n",
      " |  __call__(self, *args)\n",
      " |      Return a matrix matching the shape and dtype.\n",
      " |      \n",
      " |      This function will try to convert the input to a `n x m` matrix, with n, m being\n",
      " |      the number of rows/cols of this matrix type.\n",
      " |      \n",
      " |      Example::\n",
      " |      \n",
      " |          >>> mat4x3 = MatrixType(4, 3, float)\n",
      " |          >>> mat2x6 = MatrixType(2, 6, float)\n",
      " |      \n",
      " |          Create from n x m scalars, of a 1d list of n x m scalars:\n",
      " |      \n",
      " |              >>> m = mat4x3([1, 2, 3, 4, 5, 6, 7, 8, 9, 10, 11, 12])\n",
      " |              >>> m = mat4x3(1, 2, 3, 4, 5, 6, 7, 8, 9, 10, 11, 12)\n",
      " |      \n",
      " |          Create from n vectors/lists, with each one of dimension m:\n",
      " |      \n",
      " |              >>> m = mat4x3([1, 2, 3], [4, 5, 6], [7, 8, 9], [10, 11, 12])\n",
      " |      \n",
      " |          Create from a single scalar\n",
      " |      \n",
      " |              >>> m = mat4x3(1)\n",
      " |      \n",
      " |          Create from another 2d list/matrix, as long as they have the same number of entries\n",
      " |      \n",
      " |              >>> m = mat4x3([[1, 2, 3], [4, 5, 6], [7, 8, 9], [10, 11, 12]])\n",
      " |              >>> m = mat4x3(m)\n",
      " |              >>> k = mat2x6(m)\n",
      " |  \n",
      " |  __init__(self, n, m, ndim, dtype)\n",
      " |      Initialize self.  See help(type(self)) for accurate signature.\n",
      " |  \n",
      " |  check_matched(self, other)\n",
      " |  \n",
      " |  field(self, **kwargs)\n",
      " |  \n",
      " |  from_kernel_struct_ret(self, launch_ctx, ret_index=())\n",
      " |  \n",
      " |  from_taichi_object(self, func_ret, ret_index=())\n",
      " |  \n",
      " |  get_shape(self)\n",
      " |  \n",
      " |  ndarray(self, **kwargs)\n",
      " |  \n",
      " |  set_argpack_struct_args(self, mat, argpack, ret_index=())\n",
      " |  \n",
      " |  set_kernel_struct_args(self, mat, launch_ctx, ret_index=())\n",
      " |  \n",
      " |  to_string(self)\n",
      " |  \n",
      " |  ----------------------------------------------------------------------\n",
      " |  Data descriptors inherited from taichi.types.compound_types.CompoundType:\n",
      " |  \n",
      " |  __dict__\n",
      " |      dictionary for instance variables\n",
      " |  \n",
      " |  __weakref__\n",
      " |      list of weak references to the object\n",
      "\n"
     ]
    }
   ],
   "source": [
    "help(ti.lang.matrix.MatrixType)"
   ]
  },
  {
   "cell_type": "code",
   "execution_count": 6,
   "id": "a9d2e5da-62dd-400e-9028-12625e38a1d3",
   "metadata": {},
   "outputs": [],
   "source": [
    "def mk_velocity_stress_scheme(μ,D,α,absorbing=False):\n",
    "    \"\"\"\n",
    "    Build a taichi implementation of the velocity-stress formulation associated with the model parameters \n",
    "    Inputs : \n",
    "    - μ : inverse density \n",
    "    - D : field of positice definite matrices\n",
    "    - α : damping coefficient\n",
    "    - absorbing : wether to use absorbing boundary conditions (otherwise: Neumann b.c.)\n",
    "\n",
    "    Outputs : \n",
    "    ?? Or simply output the result of the Verlet scheme ?\n",
    "    - step_σ : implements a step of D_t σ = D grad v, followed with a damping step.\n",
    "    - step_v : implements a step of D_t v = μ div σ, following with a damping step, which includes the effect of absorbing b.c.\n",
    "    - dictionnary : various additional stuff, including\n",
    "       - energy : perturbed energy which is guaranteed to decrease along the iterations.\n",
    "    \"\"\"\n",
    "    \n",
    "    # Decomposition of the tensor field $D$\n",
    "    # Conversion to use a constant $E$\n",
    "    # Computation of the shifts associated with the offsets of $E$\n",
    "    # Bit mask to know which offsets fall outside.\n",
    "    # Computation of the weights associated with the edges.\n",
    "\n",
    "    @ti.kernel\n",
    "    def step_sigma():\n",
    "        pass\n",
    "        \n",
    "    @ti.kernel\n",
    "    def step_v(): # D_t v = μ div σ - α v\n",
    "        pass\n",
    "\n",
    "    @ti.kernel\n",
    "    def energy(): # Energy is guaranteed to decrease along the iterations\n",
    "        pass\n",
    "\n",
    "    return step_sigma,step_v, {'energy' : energy}"
   ]
  },
  {
   "cell_type": "code",
   "execution_count": null,
   "id": "150a93b3-b21d-4477-9e7a-e584e4d80800",
   "metadata": {},
   "outputs": [],
   "source": []
  }
 ],
 "metadata": {
  "kernelspec": {
   "display_name": "Python 3 (ipykernel)",
   "language": "python",
   "name": "python3"
  },
  "language_info": {
   "codemirror_mode": {
    "name": "ipython",
    "version": 3
   },
   "file_extension": ".py",
   "mimetype": "text/x-python",
   "name": "python",
   "nbconvert_exporter": "python",
   "pygments_lexer": "ipython3",
   "version": "3.11.11"
  }
 },
 "nbformat": 4,
 "nbformat_minor": 5
}
